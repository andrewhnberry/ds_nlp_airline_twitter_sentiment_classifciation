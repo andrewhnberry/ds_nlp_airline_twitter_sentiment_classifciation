{
 "cells": [
  {
   "cell_type": "code",
   "execution_count": null,
   "metadata": {},
   "outputs": [],
   "source": []
  },
  {
   "cell_type": "code",
   "execution_count": 1,
   "metadata": {},
   "outputs": [],
   "source": [
    "#Import the packages we use\n",
    "\n",
    "#General packages I use\n",
    "import pandas as pd\n",
    "import numpy as np\n",
    "import matplotlib.pyplot as plt\n",
    "import seaborn as sns\n",
    "import re\n",
    "\n",
    "#Import NTLK packages for NLP work, for preprocessing our text data\n",
    "import nltk\n",
    "from nltk.corpus import stopwords\n",
    "from nltk.stem import WordNetLemmatizer\n",
    "from nltk.tokenize import word_tokenize\n",
    "\n",
    "#SKLEARN packages \n",
    "from sklearn.model_selection import train_test_split #the most important one!!\n",
    "from nltk.classify import NaiveBayesClassifier\n",
    "from sklearn.naive_bayes import MultinomialNB \n",
    "\n",
    "from sklearn.metrics import accuracy_score\n",
    "from sklearn.preprocessing import OneHotEncoder \n",
    "from sklearn.feature_extraction.text import TfidfVectorizer\n",
    "from sklearn.feature_extraction.text import CountVectorizer"
   ]
  },
  {
   "cell_type": "code",
   "execution_count": 2,
   "metadata": {},
   "outputs": [
    {
     "data": {
      "text/html": [
       "<div>\n",
       "<style scoped>\n",
       "    .dataframe tbody tr th:only-of-type {\n",
       "        vertical-align: middle;\n",
       "    }\n",
       "\n",
       "    .dataframe tbody tr th {\n",
       "        vertical-align: top;\n",
       "    }\n",
       "\n",
       "    .dataframe thead th {\n",
       "        text-align: right;\n",
       "    }\n",
       "</style>\n",
       "<table border=\"1\" class=\"dataframe\">\n",
       "  <thead>\n",
       "    <tr style=\"text-align: right;\">\n",
       "      <th></th>\n",
       "      <th>text</th>\n",
       "      <th>airline_sentiment</th>\n",
       "    </tr>\n",
       "  </thead>\n",
       "  <tbody>\n",
       "    <tr>\n",
       "      <th>0</th>\n",
       "      <td>@VirginAmerica What @dhepburn said.</td>\n",
       "      <td>neutral</td>\n",
       "    </tr>\n",
       "    <tr>\n",
       "      <th>1</th>\n",
       "      <td>@VirginAmerica plus you've added commercials t...</td>\n",
       "      <td>positive</td>\n",
       "    </tr>\n",
       "    <tr>\n",
       "      <th>2</th>\n",
       "      <td>@VirginAmerica I didn't today... Must mean I n...</td>\n",
       "      <td>neutral</td>\n",
       "    </tr>\n",
       "  </tbody>\n",
       "</table>\n",
       "</div>"
      ],
      "text/plain": [
       "                                                text airline_sentiment\n",
       "0                @VirginAmerica What @dhepburn said.           neutral\n",
       "1  @VirginAmerica plus you've added commercials t...          positive\n",
       "2  @VirginAmerica I didn't today... Must mean I n...           neutral"
      ]
     },
     "execution_count": 2,
     "metadata": {},
     "output_type": "execute_result"
    }
   ],
   "source": [
    "#import our data into a Pandas DataFrame\n",
    "df = pd.read_csv('data/Tweets.csv')\n",
    "\n",
    "#Feature Select our columns, we will be using text and airline sentiment\n",
    "df = df[['text','airline_sentiment']]\n",
    "df.head(3)"
   ]
  },
  {
   "cell_type": "markdown",
   "metadata": {},
   "source": [
    "# NLP Work: We will need to do some preprocessing of our text \n",
    "\n",
    "#### The Standard procedure is, and that I use. \n",
    "\n",
    "1. Tokenization\n",
    "2. Remove Stop words\n",
    "3. Lemmatization\n"
   ]
  },
  {
   "cell_type": "code",
   "execution_count": 3,
   "metadata": {},
   "outputs": [],
   "source": [
    "#Now let us create a few functions to faciliate our pre processing of our text data\n",
    "\n",
    "def nltk_tokenizer(text):\n",
    "    '''\n",
    "    Takes in text data. \n",
    "    Splits up the words and makes a list for each individual word.\n",
    "    Each word is then reffered to as token\n",
    "    '''\n",
    "    return word_tokenize(text)\n",
    "\n",
    "#Load up our stop words\n",
    "stop_words = stopwords.words('english')\n",
    "#Adds stuff to our stop wors list\n",
    "stop_words.extend([\"@\",\"n't\",'.',','])\n",
    "\n",
    "def nltk_remove_stopwords(text):\n",
    "    \"\"\"\n",
    "    Litearlly removes stopwords\n",
    "    \"\"\"\n",
    "    \n",
    "    cleaned_text = [] \n",
    "    \n",
    "    for token in text: \n",
    "        if token not in stop_words and len(token) > 1: \n",
    "            cleaned_text.append(token)\n",
    "            \n",
    "    return cleaned_text\n",
    "        \n",
    "        #the_tokens = [token for token in the_tokens if token not in stop_words]\n",
    "\n",
    "def nltk_wn_lemmatizer(token_list):\n",
    "    '''\n",
    "    Taking in input in list form\n",
    "    Lemmatization is the process of converting a word to its base form.\n",
    "    '''\n",
    "    lemmatized_list = []\n",
    "    \n",
    "    for i in token_list:\n",
    "        token = WordNetLemmatizer().lemmatize(i)\n",
    "        lemmatized_list.append(token)\n",
    "    \n",
    "    return lemmatized_list\n",
    "\n",
    "\n",
    "# We need to do this for our Machine Learning Algorithims Later\n",
    "def the_untokenizer(token_list):\n",
    "        '''\n",
    "        Returns all the tokenized words in the list to one string. \n",
    "        Used after the pre processing, such as removing stopwords, and lemmatizing. \n",
    "        '''\n",
    "        return \" \".join(token_list)\n"
   ]
  },
  {
   "cell_type": "code",
   "execution_count": 4,
   "metadata": {},
   "outputs": [],
   "source": [
    "# We created all these helper function, now we need to create a final fucntion that essentially \n",
    "# Cleans up our tweets\n",
    "\n",
    "def cleaning_our_tweets(text):\n",
    "    \n",
    "    cleaned_tweets = []\n",
    "    num_tweets = len(text)\n",
    "    \n",
    "    for i in range(num_tweets):\n",
    "        tweet = text[i]\n",
    "        tokenized_list = nltk_tokenizer(tweet)\n",
    "        removed_stopwords = nltk_remove_stopwords(tokenized_list)\n",
    "        lemmatized_words = nltk_wn_lemmatizer(removed_stopwords)\n",
    "        back_to_string = the_untokenizer(lemmatized_words)\n",
    "        \n",
    "        cleaned_tweets.append(back_to_string)\n",
    "    \n",
    "    return cleaned_tweets\n",
    "    "
   ]
  },
  {
   "cell_type": "code",
   "execution_count": 5,
   "metadata": {},
   "outputs": [],
   "source": [
    "df['cleaned_tweets'] = cleaning_our_tweets(df['text'])"
   ]
  },
  {
   "cell_type": "code",
   "execution_count": null,
   "metadata": {},
   "outputs": [],
   "source": []
  },
  {
   "cell_type": "code",
   "execution_count": 56,
   "metadata": {},
   "outputs": [],
   "source": [
    "X_train, X_test, y_train, y_test = train_test_split(df.cleaned_tweets, df.airline_sentiment, test_size = 0.2 )"
   ]
  },
  {
   "cell_type": "code",
   "execution_count": 57,
   "metadata": {},
   "outputs": [],
   "source": [
    "cv = CountVectorizer()\n",
    "tv = TfidfVectorizer()\n",
    "\n",
    "X_train = tv.fit_transform(X_train)\n",
    "X_test = tv.transform(X_test)\n"
   ]
  },
  {
   "cell_type": "code",
   "execution_count": 58,
   "metadata": {},
   "outputs": [
    {
     "data": {
      "text/plain": [
       "MultinomialNB(alpha=1.0, class_prior=None, fit_prior=True)"
      ]
     },
     "execution_count": 58,
     "metadata": {},
     "output_type": "execute_result"
    }
   ],
   "source": [
    "multi_nb = MultinomialNB()\n",
    "multi_nb.fit(X_train, y_train)"
   ]
  },
  {
   "cell_type": "code",
   "execution_count": 59,
   "metadata": {},
   "outputs": [],
   "source": [
    "train_pred = multi_nb.predict(X_train)\n",
    "test_pred = multi_nb.predict(X_test)"
   ]
  },
  {
   "cell_type": "code",
   "execution_count": 62,
   "metadata": {},
   "outputs": [
    {
     "name": "stdout",
     "output_type": "stream",
     "text": [
      "0.7299351092896175\n",
      "0.6816939890710383\n"
     ]
    }
   ],
   "source": [
    "print(accuracy_score(y_train, train_pred))\n",
    "print(accuracy_score(y_test, test_pred))"
   ]
  },
  {
   "cell_type": "code",
   "execution_count": null,
   "metadata": {},
   "outputs": [],
   "source": []
  }
 ],
 "metadata": {
  "kernelspec": {
   "display_name": "Python 3",
   "language": "python",
   "name": "python3"
  },
  "language_info": {
   "codemirror_mode": {
    "name": "ipython",
    "version": 3
   },
   "file_extension": ".py",
   "mimetype": "text/x-python",
   "name": "python",
   "nbconvert_exporter": "python",
   "pygments_lexer": "ipython3",
   "version": "3.7.3"
  }
 },
 "nbformat": 4,
 "nbformat_minor": 2
}
