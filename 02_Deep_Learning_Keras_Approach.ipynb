{
 "cells": [
  {
   "cell_type": "markdown",
   "metadata": {},
   "source": [
    "## The Goal of the project is similar to the other one\n",
    "\n",
    "#### However this time, we will be using Keras as a tool for sentiment anlaysis prediction"
   ]
  },
  {
   "cell_type": "code",
   "execution_count": 4,
   "metadata": {},
   "outputs": [],
   "source": [
    "#First we need to import a few packages\n",
    "\n",
    "#General packages I use\n",
    "import pandas as pd\n",
    "import numpy as np\n",
    "import matplotlib.pyplot as plt\n",
    "import seaborn as sns\n",
    "import re\n",
    "\n",
    "\n",
    "#Import SKLEARN Pacckages\n",
    "from sklearn.model_selection import train_test_split\n",
    "\n",
    "#Import NLP Packages\n",
    "from nltk.corpus import stopwords\n",
    "from keras.preprocessing.text import Tokenizer\n",
    "from keras.utils.np_utils import to_categorical\n",
    "from sklearn.preprocessing import LabelEncoder\n",
    "\n",
    "#Keras Modeling Packages\n",
    "from keras import models\n",
    "from keras import layers\n",
    "from keras import regularizers "
   ]
  },
  {
   "cell_type": "code",
   "execution_count": 6,
   "metadata": {},
   "outputs": [],
   "source": [
    "#load in our data set\n",
    "df = pd.read_csv('data/Tweets.csv')\n",
    "\n",
    "#To simplify things, we will only need two of the columns\n",
    "data = df[['text','airline_sentiment']]"
   ]
  },
  {
   "cell_type": "code",
   "execution_count": 12,
   "metadata": {},
   "outputs": [],
   "source": [
    "#Load NLTK's stopwords list\n",
    "stop_words = stopwords.words('english')\n",
    "#Adds stuff to our stop wors list\n",
    "stop_words.extend([\"@\",\"n't\",'.',','])\n",
    "\n",
    "def clean_text(text):\n",
    "    \n",
    "    split_text = text.split()\n",
    "    clean_text = [token for token in split_text if(token not in stop_words)]\n",
    "    \n",
    "    return ' '.join(clean_text)\n",
    "    \n",
    "data.text = data.text.apply(clean_text)\n",
    "data.text = data.text.apply(lambda x: x.lower())"
   ]
  },
  {
   "cell_type": "code",
   "execution_count": 10,
   "metadata": {},
   "outputs": [],
   "source": [
    "#Train Test Split \n",
    "\n",
    "X_train, X_test, y_train, y_test = train_test_split(data['text'],data['airline_sentiment'], test_size = 0.2)"
   ]
  },
  {
   "cell_type": "code",
   "execution_count": 13,
   "metadata": {},
   "outputs": [],
   "source": [
    "max_words = 3000\n",
    "k_tokenizer = Tokenizer(num_words = max_words, split = ' ')"
   ]
  },
  {
   "cell_type": "code",
   "execution_count": 14,
   "metadata": {},
   "outputs": [],
   "source": [
    "k_tokenizer.fit_on_texts(X_train)"
   ]
  },
  {
   "cell_type": "code",
   "execution_count": 16,
   "metadata": {},
   "outputs": [],
   "source": [
    "X_train_seq = k_tokenizer.texts_to_sequences(X_train)\n",
    "X_test_seq = k_tokenizer.texts_to_sequences(X_test)"
   ]
  },
  {
   "cell_type": "code",
   "execution_count": null,
   "metadata": {},
   "outputs": [],
   "source": []
  }
 ],
 "metadata": {
  "kernelspec": {
   "display_name": "Python 3",
   "language": "python",
   "name": "python3"
  },
  "language_info": {
   "codemirror_mode": {
    "name": "ipython",
    "version": 3
   },
   "file_extension": ".py",
   "mimetype": "text/x-python",
   "name": "python",
   "nbconvert_exporter": "python",
   "pygments_lexer": "ipython3",
   "version": "3.7.3"
  }
 },
 "nbformat": 4,
 "nbformat_minor": 2
}
